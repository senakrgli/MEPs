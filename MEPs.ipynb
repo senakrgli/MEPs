{
  "nbformat": 4,
  "nbformat_minor": 0,
  "metadata": {
    "colab": {
      "provenance": [],
      "include_colab_link": true
    },
    "kernelspec": {
      "name": "python3",
      "display_name": "Python 3"
    },
    "language_info": {
      "name": "python"
    }
  },
  "cells": [
    {
      "cell_type": "markdown",
      "metadata": {
        "id": "view-in-github",
        "colab_type": "text"
      },
      "source": [
        "<a href=\"https://colab.research.google.com/github/senakrgli/MEPs/blob/main/MEPs.ipynb\" target=\"_parent\"><img src=\"https://colab.research.google.com/assets/colab-badge.svg\" alt=\"Open In Colab\"/></a>"
      ]
    },
    {
      "cell_type": "code",
      "execution_count": null,
      "metadata": {
        "id": "Rl4pwNjqtgCu"
      },
      "outputs": [],
      "source": [
        "import requests\n",
        "from bs4 import BeautifulSoup\n",
        "import csv\n",
        "import openpyxl"
      ]
    },
    {
      "cell_type": "markdown",
      "source": [
        "# Web sayfasını talep et"
      ],
      "metadata": {
        "id": "aJaAK4z06CZO"
      }
    },
    {
      "cell_type": "code",
      "source": [
        "url = \"https://www.europarl.europa.eu/meps/en/full-list/all\"\n",
        "response = requests.get(url)\n",
        "soup = BeautifulSoup(response.text, \"html.parser\")"
      ],
      "metadata": {
        "id": "R04gTNo-t1qw"
      },
      "execution_count": null,
      "outputs": []
    },
    {
      "cell_type": "markdown",
      "source": [
        "# CSV dosyası için başlık tanımları"
      ],
      "metadata": {
        "id": "oS-q4LII6Ix0"
      }
    },
    {
      "cell_type": "code",
      "source": [
        "header = ['URL', 'Name', 'Birthday', 'Birthplace', 'Political Group', 'Political Group Role', 'Country',\n",
        "          'National Party', 'Email', 'Website', 'Twitter', 'Instagram', 'Facebook', 'Bruxelles Contact',\n",
        "          'Strasbourg Contact', 'Assistants', 'Chair (Committees and delegations)',\n",
        "          'Member (Committees and delegations)', 'Substitute (Committees and delegations)',\n",
        "          'Vice-Chair (Committees and delegations)']"
      ],
      "metadata": {
        "id": "8Q-6b9QYt-ul"
      },
      "execution_count": null,
      "outputs": []
    },
    {
      "cell_type": "markdown",
      "source": [
        "# Verileri saklamak için boş bir liste oluştur"
      ],
      "metadata": {
        "id": "S5nOCulp57WY"
      }
    },
    {
      "cell_type": "code",
      "source": [
        "meps_data = []"
      ],
      "metadata": {
        "id": "muZvz_vwuXET"
      },
      "execution_count": null,
      "outputs": []
    },
    {
      "cell_type": "markdown",
      "source": [
        "#Her bir üye için HTML parçalarını bul, 705 üye için belirlediğin değişkenlere gerekenleri al"
      ],
      "metadata": {
        "id": "uUkx6gV-6bg3"
      }
    },
    {
      "cell_type": "code",
      "source": [
        "mep_members = soup.find_all(name=\"a\", class_=\"erpl_member-list-item-content\")\n",
        "for member in mep_members:\n",
        "    first_member_href = member.get('href')\n",
        "    href_url = requests.get(first_member_href)\n",
        "    href_soup = BeautifulSoup(href_url.text, \"html.parser\")\n",
        "\n",
        "    URL = member.get('href')\n",
        "\n",
        "    Name = member.find(name=\"div\", class_=\"erpl_title-h4\").text.strip()\n",
        "\n",
        "    birth_date = href_soup.find(name=\"time\", class_=\"sln-birth-date\", )\n",
        "\n",
        "    birth_date_text = \"\"\n",
        "    if birth_date:\n",
        "        birth_date_text = birth_date.get(\"datetime\")\n",
        "\n",
        "    Birthplace = href_soup.find(name=\"span\", class_=\"sln-birth-place\")\n",
        "    birth_place_text = \"\"\n",
        "    if Birthplace:\n",
        "        birth_place_text = Birthplace.get_text()\n",
        "\n",
        "    Political_Group = href_soup.find(name=\"h3\", class_=\"erpl_title-h3 mt-1 sln-political-group-name\")\n",
        "    Group_text = \"\"\n",
        "    if Political_Group:\n",
        "        Group_text = Political_Group.get_text()\n",
        "\n",
        "    Political_Group_Role = href_soup.find(name=\"p\", class_=\"sln-political-group-role\")\n",
        "    Role_text = \"\"\n",
        "    if Political_Group_Role:\n",
        "        Role_text = Political_Group_Role.get_text()\n",
        "\n",
        "    Country = href_soup.find(name=\"div\", class_=\"erpl_title-h3 mt-1 mb-1\")\n",
        "    Country_text = \"\"\n",
        "    if len(Country.get_text().split(\"-\")) > 0:\n",
        "        Country_text = Country.get_text().split(\"-\")[0].strip()\n",
        "\n",
        "    National_Party = href_soup.find(name=\"div\", class_=\"erpl_title-h3 mt-1 mb-1\")\n",
        "    National_text = \"\"\n",
        "    if len(National_Party.get_text().split(\"-\")) > 1:\n",
        "        National_text = National_Party.get_text().split(\"-\")[1].strip()\n",
        "\n",
        "    Email = href_soup.find(name=\"a\", class_=\"link_email mr-2\")\n",
        "    email_href_text = \"\"\n",
        "    if Email:\n",
        "        email_href = Email.get(\"href\")\n",
        "        if email_href:\n",
        "            email_parts = email_href.split(\":\")\n",
        "            if len(email_parts) > 1:\n",
        "                email_href_text = email_parts[1].strip()\n",
        "\n",
        "    Website = href_soup.find(name=\"a\", class_=\"link_website mr-2\")\n",
        "    website_href = \"\"\n",
        "    if Website:\n",
        "        website_href = Website.get(\"href\")\n",
        "\n",
        "    Twitter = href_soup.find(name=\"a\", class_=\"link_twitt mr-2\")\n",
        "    Twitter_href = \"\"\n",
        "    if Twitter:\n",
        "        Twitter_href = Twitter.get(\"href\")\n",
        "\n",
        "    Instagram = href_soup.find(name=\"a\", class_=\"link_instagram mr-2\")\n",
        "    Instagram_href = \"\"\n",
        "    if Instagram:\n",
        "        Instagram_href = Instagram.get(\"href\")\n",
        "\n",
        "    Facebook =href_soup.find(name=\"a\", class_=\"link_fb mr-2\")\n",
        "    Facebook_href = \"\"\n",
        "    if Facebook:\n",
        "        Facebook_href = Facebook.get(\"href\")\n",
        "\n",
        "    Bruxelles_Contact = href_soup.find(name=\"div\", class_=\"erpl_contact-card-list\")\n",
        "    b_contact = \"\"\n",
        "    if Bruxelles_Contact:\n",
        "        b_contact = Bruxelles_Contact.get_text().replace('\\n', '')\n",
        "\n",
        "    Strasbourg_Contact_list = href_soup.find_all(name=\"div\", class_=\"erpl_contact-card-list\")\n",
        "    s_contact = \"\"\n",
        "    if len(Strasbourg_Contact_list) > 1:\n",
        "        Strasbourg_Contact = Strasbourg_Contact_list[1]\n",
        "        s_contact = Strasbourg_Contact.get_text().replace('\\n','')\n",
        "\n",
        "    Chair = \"\"\n",
        "    Member = \"\"\n",
        "    Substitute = \"\"\n",
        "    ViceChair = \"\"\n",
        "    tip = \"\"\n",
        "    erpl_titles = href_soup.find_all(name=\"div\", class_=\"erpl_meps-status\")\n",
        "    for erpl_title in erpl_titles:\n",
        "        tip = erpl_title.find(name =\"h4\", class_=\"erpl_title-h4\").get_text()\n",
        "        commiteler = erpl_title.find_all(name = \"div\", class_= \"erpl_committee\")\n",
        "        commiteString = \"\"\n",
        "        for commite in commiteler:\n",
        "            commiteString += commite.get_text() + ', '\n",
        "        if(tip == 'Member'):\n",
        "             Member = commiteString\n",
        "        elif(tip == 'Substitute'):\n",
        "            Substitute = commiteString\n",
        "        elif(tip ==  'Chair'):\n",
        "            Chair = commiteString\n",
        "        elif('Vice-Chair'):\n",
        "            ViceChair = commiteString\n",
        "\n",
        "    assistant_href_tag = href_soup.find(string='Assistants', class_= \"t-x\")\n",
        "    assistant_href = assistant_href_tag.find_parent(name = \"a\", class_ = 'erpl_accordion-item-title').get('href')\n",
        "    href_as_url = requests.get('https://www.europarl.europa.eu' + assistant_href)\n",
        "    href_as_soup = BeautifulSoup(href_as_url.text, \"html.parser\")\n",
        "\n",
        "    Assistant_list = href_as_soup.find_all(name='span', class_= 'erpl_assistant')\n",
        "    Assistants = \"\"\n",
        "    for assistant in Assistant_list:\n",
        "        Assistants += assistant.get_text().strip() + \", \"\n",
        "\n",
        "    meps_data.append([URL, Name, birth_date_text, birth_place_text, Group_text, Role_text, Country_text,\n",
        "              National_text, email_href_text, website_href, Twitter_href, Instagram_href, Facebook_href,\n",
        "              b_contact, s_contact, Assistants, Chair, Member, Substitute, ViceChair])"
      ],
      "metadata": {
        "id": "GJ7hX1AL46-i"
      },
      "execution_count": null,
      "outputs": []
    },
    {
      "cell_type": "markdown",
      "source": [
        "#Bir .xlsx dosyası oluştur"
      ],
      "metadata": {
        "id": "vwxfkrpg6yR-"
      }
    },
    {
      "cell_type": "code",
      "source": [
        "workbook = openpyxl.Workbook()\n",
        "sheet = workbook.active\n",
        "\n",
        "\n",
        "header = ['URL', 'Name', 'Birthday', 'Birthplace', 'Political Group', 'Political Group Role', 'Country',\n",
        "          'National Party', 'Email', 'Website', 'Twitter', 'Instagram', 'Facebook', 'Bruxelles Contact',\n",
        "          'Strasbourg Contact', 'Assistants', 'Chair (Committees and delegations)',\n",
        "          'Member (Committees and delegations)', 'Substitute (Committees and delegations)',\n",
        "          'Vice-Chair (Committees and delegations)']\n",
        "\n",
        "\n",
        "sheet.append(header)\n",
        "\n",
        "for member_data in meps_data:\n",
        "    sheet.append(member_data)\n",
        "\n",
        "workbook.save(\"meps_data.xlsx\")"
      ],
      "metadata": {
        "id": "UP_Ygq6KvhpF"
      },
      "execution_count": null,
      "outputs": []
    }
  ]
}